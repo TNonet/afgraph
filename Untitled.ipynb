{
 "cells": [
  {
   "cell_type": "code",
   "execution_count": 3,
   "metadata": {
    "pycharm": {
     "is_executing": false
    }
   },
   "outputs": [],
   "source": [
    "from afgraph.function.function_node import *\n",
    "from afgraph.function.function_tree import *\n",
    "from afgraph.graphs.standard_graphs import *\n",
    "import numpy as np"
   ]
  },
  {
   "cell_type": "code",
   "execution_count": 4,
   "metadata": {},
   "outputs": [],
   "source": [
    "test = linear(m=2,b=3)"
   ]
  },
  {
   "cell_type": "code",
   "execution_count": 5,
   "metadata": {},
   "outputs": [],
   "source": [
    "f = test.get_tensorflow()"
   ]
  },
  {
   "cell_type": "code",
   "execution_count": 6,
   "metadata": {},
   "outputs": [
    {
     "data": {
      "text/plain": [
       "array([[3.365787 , 4.0216713, 4.33743  , 4.6810293, 3.44602  , 4.9476705,\n",
       "        4.574519 , 3.6939752, 3.0800939, 3.7276912],\n",
       "       [3.4788713, 3.9810333, 3.9123456, 3.2706351, 3.519033 , 4.125406 ,\n",
       "        4.508346 , 3.981339 , 3.1153486, 3.1144905],\n",
       "       [4.3620915, 3.5288289, 3.049775 , 4.0642843, 3.4920278, 3.5743885,\n",
       "        3.3348033, 3.7402763, 3.8205733, 3.070344 ],\n",
       "       [4.3989854, 3.6697063, 3.5003705, 4.2451973, 3.0073993, 3.041753 ,\n",
       "        4.0589533, 3.100271 , 4.6673684, 4.5439177],\n",
       "       [3.16955  , 3.893599 , 3.6909094, 3.1418164, 4.693048 , 4.316642 ,\n",
       "        4.6986256, 4.8010573, 3.2803783, 4.524757 ],\n",
       "       [4.995887 , 4.367342 , 3.7466671, 3.9366703, 4.587255 , 3.422738 ,\n",
       "        3.6265414, 3.2415001, 4.6453457, 3.7760942],\n",
       "       [4.368862 , 3.532154 , 4.996919 , 4.184828 , 3.8768919, 4.46183  ,\n",
       "        4.633936 , 4.497642 , 4.4663525, 4.4583473],\n",
       "       [4.11228  , 4.8916583, 3.3428667, 4.4820924, 4.1207385, 4.2252975,\n",
       "        4.285652 , 4.026046 , 3.359392 , 4.0570097],\n",
       "       [3.4301357, 3.8316827, 4.624231 , 4.9838514, 3.151288 , 3.1111171,\n",
       "        3.5089154, 4.879903 , 3.2207084, 3.2159524],\n",
       "       [4.6825266, 4.8396015, 4.968316 , 4.581939 , 4.064011 , 3.5966113,\n",
       "        3.8433404, 3.6132135, 3.6030142, 4.348054 ]], dtype=float32)"
      ]
     },
     "execution_count": 6,
     "metadata": {},
     "output_type": "execute_result"
    }
   ],
   "source": [
    "f(np.random.rand(10,10))"
   ]
  },
  {
   "cell_type": "code",
   "execution_count": 7,
   "metadata": {
    "pycharm": {
     "is_executing": false
    }
   },
   "outputs": [],
   "source": [
    "test = FunctionTree('test_tree')\n",
    "operator_node_1 = Operator('g', lambda x: x*-1)\n",
    "constant_node_1 = Constant('a', 3)\n",
    "constant_node_2 = Constant('c', 22)\n",
    "operator_node_2 = Product('p')\n",
    "max_node = Max('max')\n",
    "sum_node = Sum('sum')\n",
    "test.insert_node(max_node, 'Output', 'x')\n",
    "test.insert_node(operator_node_1, 'max', 'x')\n",
    "test.insert_node(constant_node_2, 'max')\n",
    "test.insert_node(operator_node_2, 'max', 'x', append = True)\n",
    "test.insert_node(constant_node_1, 'p')\n",
    "test.insert_node(sum_node, 'Output', 'max')\n",
    "test.connect_nodes('sum', 'x')"
   ]
  },
  {
   "cell_type": "code",
   "execution_count": 10,
   "metadata": {},
   "outputs": [],
   "source": [
    "test.get_graph()"
   ]
  },
  {
   "cell_type": "code",
   "execution_count": 8,
   "metadata": {
    "pycharm": {
     "is_executing": false
    }
   },
   "outputs": [
    {
     "data": {
      "image/png": "[encoded data removed]",
      "text/plain": [
       "<Figure size 432x288 with 1 Axes>"
      ]
     },
     "metadata": {
      "needs_background": "light"
     },
     "output_type": "display_data"
    }
   ],
   "source": [
    "test.get_plot(np.arange(-10,10,.001))"
   ]
  },
  {
   "cell_type": "code",
   "execution_count": 7,
   "metadata": {},
   "outputs": [],
   "source": [
    "test = test_3()"
   ]
  },
  {
   "cell_type": "code",
   "execution_count": 8,
   "metadata": {},
   "outputs": [
    {
     "name": "stdout",
     "output_type": "stream",
     "text": [
      "def f(x):\n",
      "\treturn np.sin(np.sqrt(np.square(np.cos(x))))\n"
     ]
    }
   ],
   "source": [
    "print(test.get_numpy_str())"
   ]
  },
  {
   "cell_type": "code",
   "execution_count": 9,
   "metadata": {
    "pycharm": {
     "is_executing": false
    }
   },
   "outputs": [],
   "source": [
    "def f(x):\n",
    "\treturn np.sum([np.max([22*np.ones_like(x), g(x), np.product([3*np.ones_like(x), x], axis = 0)], axis = 0) ,x], axis = 0)"
   ]
  },
  {
   "cell_type": "code",
   "execution_count": 10,
   "metadata": {},
   "outputs": [
    {
     "ename": "NameError",
     "evalue": "name 'g' is not defined",
     "output_type": "error",
     "traceback": [
      "\u001b[0;31m---------------------------------------------------------------------------\u001b[0m",
      "\u001b[0;31mNameError\u001b[0m                                 Traceback (most recent call last)",
      "\u001b[0;32m<ipython-input-10-442218de3cba>\u001b[0m in \u001b[0;36m<module>\u001b[0;34m\u001b[0m\n\u001b[0;32m----> 1\u001b[0;31m \u001b[0mf\u001b[0m\u001b[0;34m(\u001b[0m\u001b[0;36m10\u001b[0m\u001b[0;34m)\u001b[0m\u001b[0;34m\u001b[0m\u001b[0;34m\u001b[0m\u001b[0m\n\u001b[0m",
      "\u001b[0;32m<ipython-input-9-c1e7d3206118>\u001b[0m in \u001b[0;36mf\u001b[0;34m(x)\u001b[0m\n\u001b[1;32m      1\u001b[0m \u001b[0;32mdef\u001b[0m \u001b[0mf\u001b[0m\u001b[0;34m(\u001b[0m\u001b[0mx\u001b[0m\u001b[0;34m)\u001b[0m\u001b[0;34m:\u001b[0m\u001b[0;34m\u001b[0m\u001b[0;34m\u001b[0m\u001b[0m\n\u001b[0;32m----> 2\u001b[0;31m         \u001b[0;32mreturn\u001b[0m \u001b[0mnp\u001b[0m\u001b[0;34m.\u001b[0m\u001b[0msum\u001b[0m\u001b[0;34m(\u001b[0m\u001b[0;34m[\u001b[0m\u001b[0mnp\u001b[0m\u001b[0;34m.\u001b[0m\u001b[0mmax\u001b[0m\u001b[0;34m(\u001b[0m\u001b[0;34m[\u001b[0m\u001b[0;36m22\u001b[0m\u001b[0;34m*\u001b[0m\u001b[0mnp\u001b[0m\u001b[0;34m.\u001b[0m\u001b[0mones_like\u001b[0m\u001b[0;34m(\u001b[0m\u001b[0mx\u001b[0m\u001b[0;34m)\u001b[0m\u001b[0;34m,\u001b[0m \u001b[0mg\u001b[0m\u001b[0;34m(\u001b[0m\u001b[0mx\u001b[0m\u001b[0;34m)\u001b[0m\u001b[0;34m,\u001b[0m \u001b[0mnp\u001b[0m\u001b[0;34m.\u001b[0m\u001b[0mproduct\u001b[0m\u001b[0;34m(\u001b[0m\u001b[0;34m[\u001b[0m\u001b[0;36m3\u001b[0m\u001b[0;34m*\u001b[0m\u001b[0mnp\u001b[0m\u001b[0;34m.\u001b[0m\u001b[0mones_like\u001b[0m\u001b[0;34m(\u001b[0m\u001b[0mx\u001b[0m\u001b[0;34m)\u001b[0m\u001b[0;34m,\u001b[0m \u001b[0mx\u001b[0m\u001b[0;34m]\u001b[0m\u001b[0;34m,\u001b[0m \u001b[0maxis\u001b[0m \u001b[0;34m=\u001b[0m \u001b[0;36m0\u001b[0m\u001b[0;34m)\u001b[0m\u001b[0;34m]\u001b[0m\u001b[0;34m,\u001b[0m \u001b[0maxis\u001b[0m \u001b[0;34m=\u001b[0m \u001b[0;36m0\u001b[0m\u001b[0;34m)\u001b[0m \u001b[0;34m,\u001b[0m\u001b[0mx\u001b[0m\u001b[0;34m]\u001b[0m\u001b[0;34m,\u001b[0m \u001b[0maxis\u001b[0m \u001b[0;34m=\u001b[0m \u001b[0;36m0\u001b[0m\u001b[0;34m)\u001b[0m\u001b[0;34m\u001b[0m\u001b[0;34m\u001b[0m\u001b[0m\n\u001b[0m",
      "\u001b[0;31mNameError\u001b[0m: name 'g' is not defined"
     ]
    }
   ],
   "source": [
    "f(10)"
   ]
  },
  {
   "cell_type": "code",
   "execution_count": null,
   "metadata": {},
   "outputs": [],
   "source": [
    "sg = Sigmoid()\n",
    "print(sg.tree_map)\n",
    "print(sg.get_latex_str())"
   ]
  },
  {
   "cell_type": "code",
   "execution_count": null,
   "metadata": {},
   "outputs": [],
   "source": [
    "_ = Quadratic_plus_Sigmoid()\n",
    "_ = Sigmoid_with_Quadratic_exp()\n",
    "_ = Quadratic_of_Sigmoid(a=-10, b=-2, c=2)"
   ]
  },
  {
   "cell_type": "code",
   "execution_count": null,
   "metadata": {},
   "outputs": [],
   "source": [
    "test = Recp_Of_Quadratic_of_Scaled_Neg_Exp(a = -1 )"
   ]
  },
  {
   "cell_type": "code",
   "execution_count": null,
   "metadata": {},
   "outputs": [],
   "source": [
    "test.get_plot((-10,10))"
   ]
  },
  {
   "cell_type": "code",
   "execution_count": null,
   "metadata": {},
   "outputs": [],
   "source": []
  }
 ],
 "metadata": {
  "kernelspec": {
   "display_name": "PyCharm (function_graphs)",
   "language": "python",
   "name": "pycharm-7d83f648"
  },
  "language_info": {
   "codemirror_mode": {
    "name": "ipython",
    "version": 3
   },
   "file_extension": ".py",
   "mimetype": "text/x-python",
   "name": "python",
   "nbconvert_exporter": "python",
   "pygments_lexer": "ipython3",
   "version": "3.7.3"
  },
  "pycharm": {
   "stem_cell": {
    "cell_type": "raw",
    "metadata": {
     "collapsed": false
    },
    "source": []
   }
  }
 },
 "nbformat": 4,
 "nbformat_minor": 4
}
